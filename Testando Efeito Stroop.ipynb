{
 "cells": [
  {
   "cell_type": "markdown",
   "metadata": {},
   "source": [
    "<h1>O Efeito Stroop</h1>\n",
    "\n",
    "Em um teste Stroop, participantes são apresentados a uma lista de palavras, e cada uma das palavras está de uma cor. A tarefa dos participantes é dizer em voz alta a cor em que a palavra foi exibida. \n",
    "\n",
    "A tarefa tem duas condições: uma condição de palavras congruentes e uma condição de palavras incongruentes. Na condição de palavras congruentes, a palavra exibida são nomes de cores cujos nomes são a mesma cor em que a palavra foi exibida: por exemplo, VERMELHO escrito em VERMELHO, AZUL escrito em AZUL. \n",
    "\n",
    "Na condição de palavras incongruentes, as palavras apresentadas são nomes de cores cujos nomes não são as mesmas cores em que as palavras foram apresentadas: por exemplo, PURPURA escrito em VERDE, LARANJA escrito em AMARELO. \n",
    "Em cada caso, medimos o tempo que demora para o indivíduo falar os nomes em uma lista das cores de de tamanhos iguais. Cada participante realizará o teste e tem o tempo medido para a realização do teste nas duas condições."
   ]
  },
  {
   "cell_type": "markdown",
   "metadata": {},
   "source": [
    "<h1> Informações pertinentes </h1>\n",
    "\n",
    "<h3>VARIÁVEIS</h3>\n",
    "\n",
    "Como estamos tentando mensurar o tempo que o indivíduo demora para responder o nome da cor, esta será nossa variável dependente. Quanto aos tipos de condições: congruente ou incongruente serão nossa variável independente.\n",
    "\n",
    "<h3>HIPÓTESES</h3>\n",
    "\n",
    "Este estudo visa analisar se as diferentes condições em que uma palavra/cor é apresentada influencia no resultado dos candidatos. Sendo assim, trabalharemos com as seguinte hipóteses:\n",
    "\n",
    "<li><b>Hipótese Nula (H0): Mc = Mi</b>\n",
    "<br>\n",
    "A Hipótese Nula, denotada pela média populacional da condição congruente (Mc) e a média populacional da condição incongruente (Mi) <b>não são</b> significativamente diferentes (condição esta mostrada na forma do sinal de \"=\").\n",
    "<br>\n",
    "<br>\n",
    "<li><b>Hipótese Alternativa (Ha): Mc ≠ Mi</b>\n",
    "<br>\n",
    "A Hipótese Alternativa, denotada pela média populacional da condição congruente (Mc) e a média populacional da condição incongruente (Mi) <b> são</b> significativamente diferentes (condição esta mostrada na forma do sinal de \"≠\").\n",
    "\n",
    "<h3>ACERCA DO TESTE</h3>\n",
    "\n",
    "Estamos trabalhando com um dataset relativamente pequeno, de aproximadamente 24 candidatos (você pode realizar o download <a href='dataset.csv'>clicando aqui</a>). Para realizar essa análise, utilizarei um Teste-t (T-test) de amostras dependentes. Não possuímos nenhum parametro populacional para um Teste-z (Z-test) e, como estamos analisando a influência que a condição do teste pode ter em um candidato, este é o melhor tipo de teste a ser usado.\n",
    "\n",
    "<h3>PREPARAÇÃO DO DATASET</h3>\n",
    "\n",
    "Para fazer essa análise, estarei utilizando programação em Python para nos auxiliar. Caso já tenha conhecimento na linguagem e no processo, desconsidere comentários que possam ser considerados triviais.\n",
    "\n",
    "Primeiro, vamos importar nossas bibliotecas e ler nosso dataset."
   ]
  },
  {
   "cell_type": "code",
   "execution_count": 2,
   "metadata": {
    "collapsed": true
   },
   "outputs": [],
   "source": [
    "%matplotlib inline\n",
    "import pandas as pd #Importando biblioteca de DataFrames\n",
    "import matplotlib.pyplot as plt #Biblioteca para plotagem\n",
    "import seaborn as snb #Estilização das plotagens"
   ]
  },
  {
   "cell_type": "code",
   "execution_count": 3,
   "metadata": {
    "collapsed": false
   },
   "outputs": [
    {
     "data": {
      "text/plain": [
       "(24, 2)"
      ]
     },
     "execution_count": 3,
     "metadata": {},
     "output_type": "execute_result"
    }
   ],
   "source": [
    "dataset = pd.read_csv('dataset.csv')\n",
    "dataset.shape"
   ]
  },
  {
   "cell_type": "markdown",
   "metadata": {},
   "source": [
    "Como você pode ver na linha acima, nosso conjunto de dados possui <b>24</b> linhas e <b>2</b> colunas. Vamos visualizá-lo melhor."
   ]
  },
  {
   "cell_type": "code",
   "execution_count": 4,
   "metadata": {
    "collapsed": false
   },
   "outputs": [
    {
     "data": {
      "text/html": [
       "<div>\n",
       "<table border=\"1\" class=\"dataframe\">\n",
       "  <thead>\n",
       "    <tr style=\"text-align: right;\">\n",
       "      <th></th>\n",
       "      <th>Congruent</th>\n",
       "      <th>Incongruent</th>\n",
       "    </tr>\n",
       "  </thead>\n",
       "  <tbody>\n",
       "    <tr>\n",
       "      <th>0</th>\n",
       "      <td>12.079</td>\n",
       "      <td>19.278</td>\n",
       "    </tr>\n",
       "    <tr>\n",
       "      <th>1</th>\n",
       "      <td>16.791</td>\n",
       "      <td>18.741</td>\n",
       "    </tr>\n",
       "    <tr>\n",
       "      <th>2</th>\n",
       "      <td>9.564</td>\n",
       "      <td>21.214</td>\n",
       "    </tr>\n",
       "    <tr>\n",
       "      <th>3</th>\n",
       "      <td>8.630</td>\n",
       "      <td>15.687</td>\n",
       "    </tr>\n",
       "    <tr>\n",
       "      <th>4</th>\n",
       "      <td>14.669</td>\n",
       "      <td>22.803</td>\n",
       "    </tr>\n",
       "    <tr>\n",
       "      <th>5</th>\n",
       "      <td>12.238</td>\n",
       "      <td>20.878</td>\n",
       "    </tr>\n",
       "    <tr>\n",
       "      <th>6</th>\n",
       "      <td>14.692</td>\n",
       "      <td>24.572</td>\n",
       "    </tr>\n",
       "    <tr>\n",
       "      <th>7</th>\n",
       "      <td>8.987</td>\n",
       "      <td>17.394</td>\n",
       "    </tr>\n",
       "    <tr>\n",
       "      <th>8</th>\n",
       "      <td>9.401</td>\n",
       "      <td>20.762</td>\n",
       "    </tr>\n",
       "    <tr>\n",
       "      <th>9</th>\n",
       "      <td>14.480</td>\n",
       "      <td>26.282</td>\n",
       "    </tr>\n",
       "    <tr>\n",
       "      <th>10</th>\n",
       "      <td>22.328</td>\n",
       "      <td>24.524</td>\n",
       "    </tr>\n",
       "    <tr>\n",
       "      <th>11</th>\n",
       "      <td>15.298</td>\n",
       "      <td>18.644</td>\n",
       "    </tr>\n",
       "    <tr>\n",
       "      <th>12</th>\n",
       "      <td>15.073</td>\n",
       "      <td>17.510</td>\n",
       "    </tr>\n",
       "    <tr>\n",
       "      <th>13</th>\n",
       "      <td>16.929</td>\n",
       "      <td>20.330</td>\n",
       "    </tr>\n",
       "    <tr>\n",
       "      <th>14</th>\n",
       "      <td>18.200</td>\n",
       "      <td>35.255</td>\n",
       "    </tr>\n",
       "    <tr>\n",
       "      <th>15</th>\n",
       "      <td>12.130</td>\n",
       "      <td>22.158</td>\n",
       "    </tr>\n",
       "    <tr>\n",
       "      <th>16</th>\n",
       "      <td>18.495</td>\n",
       "      <td>25.139</td>\n",
       "    </tr>\n",
       "    <tr>\n",
       "      <th>17</th>\n",
       "      <td>10.639</td>\n",
       "      <td>20.429</td>\n",
       "    </tr>\n",
       "    <tr>\n",
       "      <th>18</th>\n",
       "      <td>11.344</td>\n",
       "      <td>17.425</td>\n",
       "    </tr>\n",
       "    <tr>\n",
       "      <th>19</th>\n",
       "      <td>12.369</td>\n",
       "      <td>34.288</td>\n",
       "    </tr>\n",
       "    <tr>\n",
       "      <th>20</th>\n",
       "      <td>12.944</td>\n",
       "      <td>23.894</td>\n",
       "    </tr>\n",
       "    <tr>\n",
       "      <th>21</th>\n",
       "      <td>14.233</td>\n",
       "      <td>17.960</td>\n",
       "    </tr>\n",
       "    <tr>\n",
       "      <th>22</th>\n",
       "      <td>19.710</td>\n",
       "      <td>22.058</td>\n",
       "    </tr>\n",
       "    <tr>\n",
       "      <th>23</th>\n",
       "      <td>16.004</td>\n",
       "      <td>21.157</td>\n",
       "    </tr>\n",
       "  </tbody>\n",
       "</table>\n",
       "</div>"
      ],
      "text/plain": [
       "    Congruent  Incongruent\n",
       "0      12.079       19.278\n",
       "1      16.791       18.741\n",
       "2       9.564       21.214\n",
       "3       8.630       15.687\n",
       "4      14.669       22.803\n",
       "5      12.238       20.878\n",
       "6      14.692       24.572\n",
       "7       8.987       17.394\n",
       "8       9.401       20.762\n",
       "9      14.480       26.282\n",
       "10     22.328       24.524\n",
       "11     15.298       18.644\n",
       "12     15.073       17.510\n",
       "13     16.929       20.330\n",
       "14     18.200       35.255\n",
       "15     12.130       22.158\n",
       "16     18.495       25.139\n",
       "17     10.639       20.429\n",
       "18     11.344       17.425\n",
       "19     12.369       34.288\n",
       "20     12.944       23.894\n",
       "21     14.233       17.960\n",
       "22     19.710       22.058\n",
       "23     16.004       21.157"
      ]
     },
     "execution_count": 4,
     "metadata": {},
     "output_type": "execute_result"
    }
   ],
   "source": [
    "dataset"
   ]
  },
  {
   "cell_type": "markdown",
   "metadata": {},
   "source": [
    "Acima você pode verificar todos os dados que utilizaremos nesse estudo. A primeira coluna refere-se aos testes realizados em condição Congruente, enquanto a segunda é a condição Incongruente.\n",
    "\n",
    "<h3>VISUALIZAÇÃO DOS DADOS</h3>\n",
    "\n",
    "Abaixo realizo uma visualização dos dados desse dataset para melhor percepção. Inicialmente, vejamos os dados dos testes congruentes, em seguida, os incongruentes."
   ]
  },
  {
   "cell_type": "code",
   "execution_count": 5,
   "metadata": {
    "collapsed": false
   },
   "outputs": [
    {
     "data": {
      "image/png": "[encoded data removed]",
      "text/plain": [
       "<matplotlib.figure.Figure at 0x9c068d0>"
      ]
     },
     "metadata": {},
     "output_type": "display_data"
    }
   ],
   "source": [
    "dataset['Congruent'].plot(kind='hist', figsize=(10,7), color='red', alpha=.7)\n",
    "plt.xlabel('PONTUAÇÃO DO CANDIDATO')\n",
    "plt.ylabel('FREQUENCIA')\n",
    "plt.title('TESTES CONGRUENTES')\n",
    "plt.show()"
   ]
  },
  {
   "cell_type": "code",
   "execution_count": 6,
   "metadata": {
    "collapsed": false
   },
   "outputs": [
    {
     "data": {
      "image/png": "[encoded data removed]",
      "text/plain": [
       "<matplotlib.figure.Figure at 0xade6710>"
      ]
     },
     "metadata": {},
     "output_type": "display_data"
    }
   ],
   "source": [
    "dataset['Incongruent'].plot(kind='hist', figsize=(10,7), color='green', alpha=.7)\n",
    "plt.xlabel('PONTUAÇÃO DO CANDIDATO')\n",
    "plt.ylabel('FREQUENCIA')\n",
    "plt.title('TESTES INCONGRUENTES')\n",
    "plt.show()"
   ]
  },
  {
   "cell_type": "markdown",
   "metadata": {},
   "source": [
    "Ao analisar a distribuição destes gráficos, podemos perceber que o tempo para resposta aumenta consideravelmente quando o candidato é submetido a uma condição Incongruente, ou seja, quando a cor é diferente da palavra exibida. Enquanto na condição Congruente os candidatos com menor tempo obtiveram um score entre 8 e 10, na condição Incongruente, o menor resultado visualizado possui mais de 15 pontos.\n",
    "\n",
    "Os valores apresentados nos gráficos são consideravelmente diferentes, mas será que são estatísticamente significantes? Vamos começar, de fato, nosso estudo. Acompanhe:\n",
    "\n",
    "<h2>INFERÊNCIA ESTATÍSTICA</h2>\n",
    "\n",
    "Para melhor documentação deste estudo, listarei alguns dados de estatística descritiva baseado nos resultados deste dataset. Caso deseje ter acesso a Tabela T, <a href='https://s3.amazonaws.com/udacity-hosted-downloads/t-table.jpg'>clique aqui para baixá-la</a>.\n",
    "<br>\n",
    "<br>\n",
    "<b>Tamanho da amostra (N)</b> = 24\n",
    "\n",
    "<b>Graus de liberdade (DF)</b> = 23\n",
    "\n",
    "<b>Média:</b>\n",
    "<li>Mc (Média da Condição Congruente) = 14.051</li>\n",
    "<li>Mi (Média da Condição Congruente) = 22.016</li>\n",
    "\n",
    "<b>Moda: </b>\n",
    "<li>Mc = Não possui moda</li>\n",
    "<li>Mi = Não possui moda</li>\n",
    "\n",
    "<b>Mediana: </b>\n",
    "<li>Mc = 14.36</li>\n",
    "<li>Mi = 21.02</li>\n",
    "\n",
    "\n",
    "<h2>Estatística T:</h2>\n",
    "\n",
    "<b>Estimativa Pontual (Mc - Mi)</b> = -7,96\n",
    "\n",
    "<b>Desvio Padrão da Amostra (S)</b> = 4.86\n",
    "\n",
    "<b>Erro Padrão (SEM)</b> = 0.99\n",
    "\n",
    "<b>Estatística T (T-statistic)</b> = -8.04\n",
    "\n",
    "<b>Valores críticos para T (T-critical values)</b> = 2.069\n",
    "\n",
    "<b>Alpha (α)</b> = 0.05\n",
    "\n",
    "<b>Tipo de teste:</b> Bicaudal (Two-tailed test)\n",
    "\n",
    "<b>Intervalo de Confiança de 95% (Confidence Interval):</b>\n",
    "<li>Limite Inferior (Lower Level) = -10.01</li> \n",
    "<li>Limite Superior (Upper Level) = -5.91</li>\n",
    "\n",
    "<b>Valor p (p-value)</b> = <0.0001\n",
    "\n",
    "<b>Teste de Cohen (Cohen's D)</b> = -1.64\n",
    "\n",
    "<b>R²</b> = 0.74"
   ]
  },
  {
   "cell_type": "markdown",
   "metadata": {
    "collapsed": true
   },
   "source": [
    "<h1>Decisão</h1>\n",
    "\n",
    "Com base nos valores estatísticos observados nesse estudo, temos um resultado estatísticamente significativo para <b> rejeitarmos a hipótese nula</b>. Podemos ver, através dos dados que, a condição em que o teste é realizado (Congruente ou Incongruente) influencia sim no resultado do candidato. Cerca de <b>74%</b> da diferença dos resultados é devido tal condição. O valor encontrado em nossa <b>Estatística T (-8.04)</b> é encontrado em fora de nossa zona crítica e, conforme estipulado em nosso <b>Intervalo de Confiança de 95% (-10.01 e -5.91)</b> em conjunto com o <b>Nível Alpha (0.05)</b>, tal valor encontrado para esta estatística não pode ser atribuído por sorte.\n",
    "\n",
    "<h1>Explicando o efeito</h1>\n",
    "\n",
    "O Teste Stroop possui esse nome devido ter sido realizado pelo psicólogo J. Ridley Stroop em 1935. O estudo desse efeito em jovens de 18 a 25 anos do sexo masculino, levantou duas possíveis teorias que explicassem o motivo desse paradigma: o primeiro seria a Teoria da Velocidade de Processamento que, basicamente, explica que o processo de ler as palavras é consideravelmente mais rápido do que o efeito de denominar suas respectivas cores; o segundo seria a Teoria da Atenção Seletiva, que salienta que o nível de atenção para nomear uma cor é maior do que a simples leitura. O resultado final desta equação: é necessário mais tempo para percebemos cores diferentes do que apenas lermos.\n",
    "\n",
    "Não trata-se apenas de um passatempo para entreter pessoas. O Teste Stroop tornou-se uma das ferramentas mais poderosas para realizar diagnósticos, visto que erros em reconhecer as cores estão associados com impulsividade e inibição insuficiente no córtex pré-frontal, comum em pacientes com TDAH e outros distúrbios dependentes de dopamina. "
   ]
  }
 ],
 "metadata": {
  "anaconda-cloud": {},
  "kernelspec": {
   "display_name": "Python [Root]",
   "language": "python",
   "name": "Python [Root]"
  },
  "language_info": {
   "codemirror_mode": {
    "name": "ipython",
    "version": 3
   },
   "file_extension": ".py",
   "mimetype": "text/x-python",
   "name": "python",
   "nbconvert_exporter": "python",
   "pygments_lexer": "ipython3",
   "version": "3.5.2"
  }
 },
 "nbformat": 4,
 "nbformat_minor": 1
}
